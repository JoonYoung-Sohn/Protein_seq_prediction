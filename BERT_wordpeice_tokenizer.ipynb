{
  "nbformat": 4,
  "nbformat_minor": 0,
  "metadata": {
    "colab": {
      "name": "BERT_wordpeice_tokenizer.ipynb",
      "provenance": [],
      "authorship_tag": "ABX9TyOTJXKOw1FXxj4ZcLuWrAC1",
      "include_colab_link": true
    },
    "kernelspec": {
      "name": "python3",
      "display_name": "Python 3"
    },
    "language_info": {
      "name": "python"
    },
    "accelerator": "GPU"
  },
  "cells": [
    {
      "cell_type": "markdown",
      "metadata": {
        "id": "view-in-github",
        "colab_type": "text"
      },
      "source": [
        "<a href=\"https://colab.research.google.com/github/JoonYoung-Sohn/Protein_seq_prediction/blob/main/BERT_wordpeice_tokenizer.ipynb\" target=\"_parent\"><img src=\"https://colab.research.google.com/assets/colab-badge.svg\" alt=\"Open In Colab\"/></a>"
      ]
    },
    {
      "cell_type": "code",
      "metadata": {
        "colab": {
          "base_uri": "https://localhost:8080/"
        },
        "id": "Hcjg6zVzgwQY",
        "outputId": "dce7c398-a3fb-49e5-921b-2a421e09cf82"
      },
      "source": [
        "pip install tokenizers"
      ],
      "execution_count": 2,
      "outputs": [
        {
          "output_type": "stream",
          "text": [
            "Collecting tokenizers\n",
            "\u001b[?25l  Downloading https://files.pythonhosted.org/packages/d4/e2/df3543e8ffdab68f5acc73f613de9c2b155ac47f162e725dcac87c521c11/tokenizers-0.10.3-cp37-cp37m-manylinux_2_5_x86_64.manylinux1_x86_64.manylinux_2_12_x86_64.manylinux2010_x86_64.whl (3.3MB)\n",
            "\u001b[K     |████████████████████████████████| 3.3MB 12.0MB/s \n",
            "\u001b[?25hInstalling collected packages: tokenizers\n",
            "Successfully installed tokenizers-0.10.3\n"
          ],
          "name": "stdout"
        }
      ]
    },
    {
      "cell_type": "code",
      "metadata": {
        "id": "OhR9c_iDkZok"
      },
      "source": [
        "from tokenizers import BertWordPieceTokenizer"
      ],
      "execution_count": 3,
      "outputs": []
    },
    {
      "cell_type": "code",
      "metadata": {
        "id": "LZ4eUsj1klb7"
      },
      "source": [
        "tokenizer = BertWordPieceTokenizer()"
      ],
      "execution_count": 4,
      "outputs": []
    },
    {
      "cell_type": "code",
      "metadata": {
        "colab": {
          "base_uri": "https://localhost:8080/"
        },
        "id": "PaV9gqzekpKa",
        "outputId": "b6095f99-ae89-4f06-e4eb-a75f9bfffdb9"
      },
      "source": [
        "tokenizer"
      ],
      "execution_count": 5,
      "outputs": [
        {
          "output_type": "execute_result",
          "data": {
            "text/plain": [
              "Tokenizer(vocabulary_size=0, model=BertWordPiece, unk_token=[UNK], sep_token=[SEP], cls_token=[CLS], pad_token=[PAD], mask_token=[MASK], clean_text=True, handle_chinese_chars=True, strip_accents=None, lowercase=True, wordpieces_prefix=##)"
            ]
          },
          "metadata": {
            "tags": []
          },
          "execution_count": 5
        }
      ]
    },
    {
      "cell_type": "code",
      "metadata": {
        "colab": {
          "base_uri": "https://localhost:8080/"
        },
        "id": "ZhntD1_Bkqga",
        "outputId": "a9c122d6-6f69-4a89-d3f7-00f2c10f3f5b"
      },
      "source": [
        "# google drive mount\n",
        "from google.colab import drive\n",
        "drive.mount('/content/drive')"
      ],
      "execution_count": 6,
      "outputs": [
        {
          "output_type": "stream",
          "text": [
            "Mounted at /content/drive\n"
          ],
          "name": "stdout"
        }
      ]
    },
    {
      "cell_type": "code",
      "metadata": {
        "id": "Mb0Gkg63lEoa"
      },
      "source": [
        "fasta_file = \"/content/drive/MyDrive/preprocessed_data.fasta\""
      ],
      "execution_count": 7,
      "outputs": []
    },
    {
      "cell_type": "code",
      "metadata": {
        "colab": {
          "base_uri": "https://localhost:8080/",
          "height": 154
        },
        "id": "A516fcZklK2A",
        "outputId": "8aefdf43-9096-45be-fd6a-3a4ea29d1ff6"
      },
      "source": [
        "f = open(fasta_file,'r')\n",
        "text = f.readlines()\n",
        "text[0]"
      ],
      "execution_count": 9,
      "outputs": [
        {
          "output_type": "execute_result",
          "data": {
            "application/vnd.google.colaboratory.intrinsic+json": {
              "type": "string"
            },
            "text/plain": [
              "'MWLSPEEVLVANALWVTERANPFFVLQRRRGHGRGGGLTGLLVGTLDVVLDSSARVAPYRILHQTQDSQVYWTVACGSSRKEITKHWEWLENNLLQTLSIFDSEEDITTFVKGKIHGIIAEENKNLQPQGDEDPGKFKEAELKMRKQFGMPEGEKLVNYYSCSYWKGRVPRQGWLYLTVNHLCFYSFLLGKEVSLVVQWVDITRLEKNATLLFPESIRVDTRDQELFFSMFLNIGETFKLMEQLANLAMRQLLDSEGFLEDKALPRPIRPHRNISALKRDLDARAKNECYRATFRLPRDERLDGHTSCTLWTPFNKLHIPGQMFISNNYICFASKEEDACHLIIPLREVTIVEKADSSSVLPSPLSISTKSKMTFLFANLKDRDFLVQRISDFLQKTPSKQPGSIGSRKASVVDPSTESSPAPQEGSEQPASPASPLSSRQSFCAQEAPTASQGLLKLFQKNSPMEDLGAKGAKEKMKEESWHIHFFEYGRGVCMYRTAKTRALVLKGIPESLRGELWLLFSGAWNEMVTHPGYYAELVEKSTGKYSLATEEIERDLHRSMPEHPAFQNELGIAALRRVLTAYAFRNPTIGYCQAMNIVTSVLLLYGSEEEAFWLLVALCERMLPDYYNTRVVGALVDQGIFEELTRDFLPQLSEKMQDLGVISSISLSWFLTLFLSVMPFESAVVIVDCFFYEGIKVILQVALAVLDANMEQLLGCSDEGEAMTMLGRYLDNVVNKQSVSPPIPHLRALLSSSDDPPAEVDIFELLKVSYEKFSSLRAEDIEQMRFKQRLKVIQSLEDTAKRSVVRAIPVDIGFSIEELEDLYMVFKAKHLASQYWGCSRTMAGRRDPSLPYLEQYRIDASQFRELFASLTPWACGSHTPLLAGRMFRLLDENKDSLINFKEFVTGMSGMYHGDLTEKLKVLYKLHLPPALSPEEAESALEAAHYFTEDSSSEASPLASDLDLFLPWEAQEALPQEEQEGSGSEERGEEKGTSSPDYRHYLRMWAKEKEAQKETIKDLPKMNQEQFIELCKTLYNMFSEDPMEQDLYHAIATVASLLLRIGEVGKKFSARTGRKPRDCATEEDEPPAPELHQDAARELQPPAAGDPQAKAGGDTHLGKAPQESQVVVEGGSGEGQGSPSQLLSDDETKDDMSMSSYSVVSTGSLQCEDLADDTVLVGGEACSPTARIGGTVDTDWCISFEQILASILTESVLVNFFEKRVDIGLKIKDQKKVERQFSTASDHEQPGVSG\\n'"
            ]
          },
          "metadata": {
            "tags": []
          },
          "execution_count": 9
        }
      ]
    },
    {
      "cell_type": "code",
      "metadata": {
        "id": "gPaIoBayrxcn"
      },
      "source": [
        "# Initialize an empty BERT tokenizer\n",
        "tokenizer = BertWordPieceTokenizer(\n",
        "  clean_text=False,\n",
        "  handle_chinese_chars=False,\n",
        "  strip_accents=False,\n",
        "  lowercase=True,\n",
        ")\n",
        "\n",
        "# prepare text files to train vocab on them\n",
        "files = [fasta_file]"
      ],
      "execution_count": 16,
      "outputs": []
    },
    {
      "cell_type": "code",
      "metadata": {
        "id": "uJjdh_5GxKEx"
      },
      "source": [
        "# train BERT tokenizer\n",
        "tokenizer.train(\n",
        "  files,\n",
        "  vocab_size=30000,\n",
        "  min_frequency=2,\n",
        "  show_progress=True,\n",
        "  special_tokens=['[PAD]', '[UNK]', '[CLS]', '[SEP]', '[MASK]'],\n",
        "  limit_alphabet=1000,\n",
        "  wordpieces_prefix=\"##\"\n",
        ")"
      ],
      "execution_count": 18,
      "outputs": []
    },
    {
      "cell_type": "code",
      "metadata": {
        "id": "c54NCVbCxPi1"
      },
      "source": [
        "tokenizer.save('/content/drive/MyDrive/BERT_token')"
      ],
      "execution_count": 19,
      "outputs": []
    },
    {
      "cell_type": "code",
      "metadata": {
        "colab": {
          "base_uri": "https://localhost:8080/"
        },
        "id": "-2ZQBTuYyWkX",
        "outputId": "9d69d610-36a0-42a4-91c8-6a6e16837504"
      },
      "source": [
        "tokenizer"
      ],
      "execution_count": 20,
      "outputs": [
        {
          "output_type": "execute_result",
          "data": {
            "text/plain": [
              "Tokenizer(vocabulary_size=30000, model=BertWordPiece, unk_token=[UNK], sep_token=[SEP], cls_token=[CLS], pad_token=[PAD], mask_token=[MASK], clean_text=False, handle_chinese_chars=False, strip_accents=False, lowercase=True, wordpieces_prefix=##)"
            ]
          },
          "metadata": {
            "tags": []
          },
          "execution_count": 20
        }
      ]
    },
    {
      "cell_type": "code",
      "metadata": {
        "id": "M6Jucjfvyk1r"
      },
      "source": [
        ""
      ],
      "execution_count": null,
      "outputs": []
    }
  ]
}