{
  "nbformat": 4,
  "nbformat_minor": 0,
  "metadata": {
    "colab": {
      "name": "char_tokenizer.ipynb",
      "provenance": [],
      "authorship_tag": "ABX9TyMECKnifdGkalKhgHt2Kx51",
      "include_colab_link": true
    },
    "kernelspec": {
      "name": "python3",
      "display_name": "Python 3"
    },
    "language_info": {
      "name": "python"
    },
    "accelerator": "GPU"
  },
  "cells": [
    {
      "cell_type": "markdown",
      "metadata": {
        "id": "view-in-github",
        "colab_type": "text"
      },
      "source": [
        "<a href=\"https://colab.research.google.com/github/JoonYoung-Sohn/Protein_seq_prediction/blob/main/char_tokenizer.ipynb\" target=\"_parent\"><img src=\"https://colab.research.google.com/assets/colab-badge.svg\" alt=\"Open In Colab\"/></a>"
      ]
    },
    {
      "cell_type": "code",
      "metadata": {
        "id": "LXQa6c7nIqEj"
      },
      "source": [
        "import argparse\n",
        "import collections\n",
        "import os\n",
        "import random\n",
        "import re\n",
        "import shutil\n",
        "import zipfile\n",
        "\n",
        "import matplotlib.pyplot as plt\n",
        "import numpy as np\n",
        "import torch"
      ],
      "execution_count": 1,
      "outputs": []
    },
    {
      "cell_type": "code",
      "metadata": {
        "colab": {
          "base_uri": "https://localhost:8080/"
        },
        "id": "Ab-GV4XXIsBL",
        "outputId": "a2ded071-171f-44e7-ed57-89c08f103c94"
      },
      "source": [
        "# google drive mount\n",
        "from google.colab import drive\n",
        "drive.mount('/content/drive')"
      ],
      "execution_count": 2,
      "outputs": [
        {
          "output_type": "stream",
          "text": [
            "Mounted at /content/drive\n"
          ],
          "name": "stdout"
        }
      ]
    },
    {
      "cell_type": "code",
      "metadata": {
        "id": "zvDNt6b3IvF4"
      },
      "source": [
        "fasta_file = \"/content/drive/MyDrive/preprocessed_data.fasta\""
      ],
      "execution_count": 3,
      "outputs": []
    },
    {
      "cell_type": "code",
      "metadata": {
        "colab": {
          "base_uri": "https://localhost:8080/"
        },
        "id": "ZMNi9v--JNHZ",
        "outputId": "a60ec8b4-784b-4212-dfa5-cc58d3fc326a"
      },
      "source": [
        "args = {\n",
        "    # random seed value\n",
        "    \"seed\": 1234,\n",
        "    # CPU 또는 GPU 사용여부 결정\n",
        "    \"device\": torch.device(\"cuda\" if torch.cuda.is_available() else \"cpu\"),\n",
        "    # 말뭉치 파일\n",
        "    \"corpus\": fasta_file,\n",
        "}\n",
        "args = argparse.Namespace(**args)\n",
        "\n",
        "print(args)"
      ],
      "execution_count": 4,
      "outputs": [
        {
          "output_type": "stream",
          "text": [
            "Namespace(corpus='/content/drive/MyDrive/preprocessed_data.fasta', device=device(type='cuda'), seed=1234)\n"
          ],
          "name": "stdout"
        }
      ]
    },
    {
      "cell_type": "code",
      "metadata": {
        "id": "H8iXtZ-4JRAr"
      },
      "source": [
        "random.seed(args.seed)\n",
        "np.random.seed(args.seed)\n",
        "torch.manual_seed(args.seed)\n",
        "torch.cuda.manual_seed_all(args.seed)"
      ],
      "execution_count": 5,
      "outputs": []
    },
    {
      "cell_type": "code",
      "metadata": {
        "colab": {
          "base_uri": "https://localhost:8080/"
        },
        "id": "XLwZFKa6JtbQ",
        "outputId": "ef56b754-6e41-465e-d9ba-13a883bc1d34"
      },
      "source": [
        "count = 0\n",
        "with open('/content/drive/MyDrive/preprocessed_data.fasta') as f:\n",
        "    for i, line in enumerate(f):\n",
        "          count += 1\n",
        "print(count)"
      ],
      "execution_count": 8,
      "outputs": [
        {
          "output_type": "stream",
          "text": [
            "20395\n"
          ],
          "name": "stdout"
        }
      ]
    },
    {
      "cell_type": "code",
      "metadata": {
        "colab": {
          "base_uri": "https://localhost:8080/"
        },
        "id": "boYQ8XeBJ30f",
        "outputId": "09ed3941-e5a5-45d0-c804-49b82626b52a"
      },
      "source": [
        "char_counter = collections.defaultdict(int)\n",
        "with open('/content/drive/MyDrive/preprocessed_data.fasta') as f:\n",
        "    for i, line in enumerate(f): \n",
        "        line = line.strip()\n",
        "        for c in line:\n",
        "            char_counter[c] += 1\n",
        "print(len(char_counter))"
      ],
      "execution_count": 11,
      "outputs": [
        {
          "output_type": "stream",
          "text": [
            "21\n"
          ],
          "name": "stdout"
        }
      ]
    },
    {
      "cell_type": "code",
      "metadata": {
        "colab": {
          "base_uri": "https://localhost:8080/"
        },
        "id": "fgWJaf3mKm7J",
        "outputId": "acc23016-8539-49ab-fc29-593ce88b74a0"
      },
      "source": [
        "least_freq = sorted(char_counter.items(), key=lambda item: item[1])\n",
        "\n",
        "print(least_freq[:10])"
      ],
      "execution_count": 13,
      "outputs": [
        {
          "output_type": "stream",
          "text": [
            "[('U', 36), ('W', 138190), ('M', 242336), ('C', 261525), ('H', 297977), ('Y', 302785), ('N', 407936), ('F', 414800), ('I', 492985), ('D', 538344)]\n"
          ],
          "name": "stdout"
        }
      ]
    },
    {
      "cell_type": "code",
      "metadata": {
        "colab": {
          "base_uri": "https://localhost:8080/"
        },
        "id": "widkxUPXLZZa",
        "outputId": "e4cbbc44-5c20-49d3-91dd-4d1b293afd4b"
      },
      "source": [
        "char_to_id = {'[PAD]': 0, '[UNK]': 1}\n",
        "for c, cnt in char_counter.items():\n",
        "    char_to_id[c] = len(char_to_id)\n",
        "print(len(char_to_id))"
      ],
      "execution_count": 14,
      "outputs": [
        {
          "output_type": "stream",
          "text": [
            "23\n"
          ],
          "name": "stdout"
        }
      ]
    },
    {
      "cell_type": "code",
      "metadata": {
        "id": "k2pPeBzzLZ0U"
      },
      "source": [
        ""
      ],
      "execution_count": null,
      "outputs": []
    }
  ]
}