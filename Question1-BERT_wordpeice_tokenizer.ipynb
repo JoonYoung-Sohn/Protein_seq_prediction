{
  "nbformat": 4,
  "nbformat_minor": 0,
  "metadata": {
    "colab": {
      "name": "BERT_wordpeice_tokenizer.ipynb",
      "provenance": [],
      "authorship_tag": "ABX9TyNTpeT8Xnh8e/ELTEYlETGS",
      "include_colab_link": true
    },
    "kernelspec": {
      "name": "python3",
      "display_name": "Python 3"
    },
    "language_info": {
      "name": "python"
    },
    "accelerator": "GPU"
  },
  "cells": [
    {
      "cell_type": "markdown",
      "metadata": {
        "id": "view-in-github",
        "colab_type": "text"
      },
      "source": [
        "<a href=\"https://colab.research.google.com/github/JoonYoung-Sohn/Protein_seq_prediction/blob/main/Question1-BERT_wordpeice_tokenizer.ipynb\" target=\"_parent\"><img src=\"https://colab.research.google.com/assets/colab-badge.svg\" alt=\"Open In Colab\"/></a>"
      ]
    },
    {
      "cell_type": "code",
      "metadata": {
        "colab": {
          "base_uri": "https://localhost:8080/"
        },
        "id": "Hcjg6zVzgwQY",
        "outputId": "0b33fc18-f8d3-4641-b39d-bafa4ebdf371"
      },
      "source": [
        "pip install tokenizers"
      ],
      "execution_count": 11,
      "outputs": [
        {
          "output_type": "stream",
          "text": [
            "Requirement already satisfied: tokenizers in /usr/local/lib/python3.7/dist-packages (0.10.3)\n"
          ],
          "name": "stdout"
        }
      ]
    },
    {
      "cell_type": "code",
      "metadata": {
        "id": "OhR9c_iDkZok"
      },
      "source": [
        "from tokenizers import BertWordPieceTokenizer"
      ],
      "execution_count": 12,
      "outputs": []
    },
    {
      "cell_type": "code",
      "metadata": {
        "id": "LZ4eUsj1klb7"
      },
      "source": [
        "tokenizer = BertWordPieceTokenizer()"
      ],
      "execution_count": 13,
      "outputs": []
    },
    {
      "cell_type": "code",
      "metadata": {
        "colab": {
          "base_uri": "https://localhost:8080/"
        },
        "id": "PaV9gqzekpKa",
        "outputId": "ba068b01-aec6-4303-ef56-42b85dfe3e17"
      },
      "source": [
        "tokenizer"
      ],
      "execution_count": 14,
      "outputs": [
        {
          "output_type": "execute_result",
          "data": {
            "text/plain": [
              "Tokenizer(vocabulary_size=0, model=BertWordPiece, unk_token=[UNK], sep_token=[SEP], cls_token=[CLS], pad_token=[PAD], mask_token=[MASK], clean_text=True, handle_chinese_chars=True, strip_accents=None, lowercase=True, wordpieces_prefix=##)"
            ]
          },
          "metadata": {
            "tags": []
          },
          "execution_count": 14
        }
      ]
    },
    {
      "cell_type": "code",
      "metadata": {
        "colab": {
          "base_uri": "https://localhost:8080/"
        },
        "id": "ZhntD1_Bkqga",
        "outputId": "6cf2bc42-3929-46a3-a1d2-79b6fa7eaa5e"
      },
      "source": [
        "# google drive mount\n",
        "from google.colab import drive\n",
        "drive.mount('/content/drive')"
      ],
      "execution_count": 15,
      "outputs": [
        {
          "output_type": "stream",
          "text": [
            "Drive already mounted at /content/drive; to attempt to forcibly remount, call drive.mount(\"/content/drive\", force_remount=True).\n"
          ],
          "name": "stdout"
        }
      ]
    },
    {
      "cell_type": "code",
      "metadata": {
        "id": "Mb0Gkg63lEoa"
      },
      "source": [
        "fasta_file = \"/content/drive/MyDrive/preprocessed_data.fasta\""
      ],
      "execution_count": 16,
      "outputs": []
    },
    {
      "cell_type": "code",
      "metadata": {
        "colab": {
          "base_uri": "https://localhost:8080/",
          "height": 154
        },
        "id": "A516fcZklK2A",
        "outputId": "c2c93187-fa26-4422-87c7-5f683d3576c1"
      },
      "source": [
        "f = open(fasta_file,'r')\n",
        "text = f.readlines()\n",
        "text[0]"
      ],
      "execution_count": 8,
      "outputs": [
        {
          "output_type": "execute_result",
          "data": {
            "application/vnd.google.colaboratory.intrinsic+json": {
              "type": "string"
            },
            "text/plain": [
              "'MWLSPEEVLVANALWVTERANPFFVLQRRRGHGRGGGLTGLLVGTLDVVLDSSARVAPYRILHQTQDSQVYWTVACGSSRKEITKHWEWLENNLLQTLSIFDSEEDITTFVKGKIHGIIAEENKNLQPQGDEDPGKFKEAELKMRKQFGMPEGEKLVNYYSCSYWKGRVPRQGWLYLTVNHLCFYSFLLGKEVSLVVQWVDITRLEKNATLLFPESIRVDTRDQELFFSMFLNIGETFKLMEQLANLAMRQLLDSEGFLEDKALPRPIRPHRNISALKRDLDARAKNECYRATFRLPRDERLDGHTSCTLWTPFNKLHIPGQMFISNNYICFASKEEDACHLIIPLREVTIVEKADSSSVLPSPLSISTKSKMTFLFANLKDRDFLVQRISDFLQKTPSKQPGSIGSRKASVVDPSTESSPAPQEGSEQPASPASPLSSRQSFCAQEAPTASQGLLKLFQKNSPMEDLGAKGAKEKMKEESWHIHFFEYGRGVCMYRTAKTRALVLKGIPESLRGELWLLFSGAWNEMVTHPGYYAELVEKSTGKYSLATEEIERDLHRSMPEHPAFQNELGIAALRRVLTAYAFRNPTIGYCQAMNIVTSVLLLYGSEEEAFWLLVALCERMLPDYYNTRVVGALVDQGIFEELTRDFLPQLSEKMQDLGVISSISLSWFLTLFLSVMPFESAVVIVDCFFYEGIKVILQVALAVLDANMEQLLGCSDEGEAMTMLGRYLDNVVNKQSVSPPIPHLRALLSSSDDPPAEVDIFELLKVSYEKFSSLRAEDIEQMRFKQRLKVIQSLEDTAKRSVVRAIPVDIGFSIEELEDLYMVFKAKHLASQYWGCSRTMAGRRDPSLPYLEQYRIDASQFRELFASLTPWACGSHTPLLAGRMFRLLDENKDSLINFKEFVTGMSGMYHGDLTEKLKVLYKLHLPPALSPEEAESALEAAHYFTEDSSSEASPLASDLDLFLPWEAQEALPQEEQEGSGSEERGEEKGTSSPDYRHYLRMWAKEKEAQKETIKDLPKMNQEQFIELCKTLYNMFSEDPMEQDLYHAIATVASLLLRIGEVGKKFSARTGRKPRDCATEEDEPPAPELHQDAARELQPPAAGDPQAKAGGDTHLGKAPQESQVVVEGGSGEGQGSPSQLLSDDETKDDMSMSSYSVVSTGSLQCEDLADDTVLVGGEACSPTARIGGTVDTDWCISFEQILASILTESVLVNFFEKRVDIGLKIKDQKKVERQFSTASDHEQPGVSG\\n'"
            ]
          },
          "metadata": {
            "tags": []
          },
          "execution_count": 8
        }
      ]
    },
    {
      "cell_type": "code",
      "metadata": {
        "id": "gPaIoBayrxcn"
      },
      "source": [
        "# Initialize an empty BERT tokenizer\n",
        "tokenizer = BertWordPieceTokenizer(\n",
        "  clean_text=False,\n",
        "  handle_chinese_chars=False,\n",
        "  strip_accents=False,\n",
        "  lowercase=False,\n",
        ")\n",
        "\n",
        "# prepare text files to train vocab on them\n",
        "files = fasta_file"
      ],
      "execution_count": 19,
      "outputs": []
    },
    {
      "cell_type": "code",
      "metadata": {
        "id": "uJjdh_5GxKEx"
      },
      "source": [
        "# train BERT tokenizer\n",
        "tokenizer.train(\n",
        "  files,\n",
        "  vocab_size=30000,\n",
        "  min_frequency=10,\n",
        "  show_progress=True,\n",
        "  special_tokens=['[PAD]', '[UNK]', '[CLS]', '[SEP]', '[MASK]'],\n",
        "  limit_alphabet=6000,\n",
        "  wordpieces_prefix=\"##\"\n",
        ")"
      ],
      "execution_count": 20,
      "outputs": []
    },
    {
      "cell_type": "code",
      "metadata": {
        "id": "c54NCVbCxPi1"
      },
      "source": [
        "tokenizer.save('/content/drive/MyDrive/BERT_token2.txt')"
      ],
      "execution_count": 21,
      "outputs": []
    },
    {
      "cell_type": "code",
      "metadata": {
        "colab": {
          "base_uri": "https://localhost:8080/"
        },
        "id": "-2ZQBTuYyWkX",
        "outputId": "e1112bfa-f2eb-44ca-9009-0c6d86929981"
      },
      "source": [
        "tokenizer"
      ],
      "execution_count": 22,
      "outputs": [
        {
          "output_type": "execute_result",
          "data": {
            "text/plain": [
              "Tokenizer(vocabulary_size=30000, model=BertWordPiece, unk_token=[UNK], sep_token=[SEP], cls_token=[CLS], pad_token=[PAD], mask_token=[MASK], clean_text=False, handle_chinese_chars=False, strip_accents=False, lowercase=False, wordpieces_prefix=##)"
            ]
          },
          "metadata": {
            "tags": []
          },
          "execution_count": 22
        }
      ]
    },
    {
      "cell_type": "code",
      "metadata": {
        "id": "M6Jucjfvyk1r",
        "colab": {
          "base_uri": "https://localhost:8080/",
          "height": 176
        },
        "outputId": "3e5e69a3-9ddf-4ee4-ed9d-5c3eedbffbd3"
      },
      "source": [
        "import pandas as pd\n",
        "\n",
        "# Load the dataset into a pandas dataframe.\n",
        "df = pd.read_csv(fasta_file, delimiter='\\n', header=None, names=['sequence'])\n",
        "\n",
        "# Report the number of sentences.\n",
        "print('Number of training sentences: {:,}\\n'.format(df.shape[0]))\n",
        "\n",
        "# Display 10 random rows from the data.\n",
        "df.sample(3)"
      ],
      "execution_count": 23,
      "outputs": [
        {
          "output_type": "stream",
          "text": [
            "Number of training sentences: 20,395\n",
            "\n"
          ],
          "name": "stdout"
        },
        {
          "output_type": "execute_result",
          "data": {
            "text/html": [
              "<div>\n",
              "<style scoped>\n",
              "    .dataframe tbody tr th:only-of-type {\n",
              "        vertical-align: middle;\n",
              "    }\n",
              "\n",
              "    .dataframe tbody tr th {\n",
              "        vertical-align: top;\n",
              "    }\n",
              "\n",
              "    .dataframe thead th {\n",
              "        text-align: right;\n",
              "    }\n",
              "</style>\n",
              "<table border=\"1\" class=\"dataframe\">\n",
              "  <thead>\n",
              "    <tr style=\"text-align: right;\">\n",
              "      <th></th>\n",
              "      <th>sequence</th>\n",
              "    </tr>\n",
              "  </thead>\n",
              "  <tbody>\n",
              "    <tr>\n",
              "      <th>4580</th>\n",
              "      <td>MIFLTALPLFWIMISASRGGHWGAWMPSSISAFEGTCVSIPCRFDF...</td>\n",
              "    </tr>\n",
              "    <tr>\n",
              "      <th>13762</th>\n",
              "      <td>MCARGQVGRGTQLRTGRPCSQVPGSRWRPERLLRRQRAGGRPSRPH...</td>\n",
              "    </tr>\n",
              "    <tr>\n",
              "      <th>13686</th>\n",
              "      <td>MKGWGWLALLLGALLGTAWARRSQDLHCGACRALVDELEWEIAQVD...</td>\n",
              "    </tr>\n",
              "  </tbody>\n",
              "</table>\n",
              "</div>"
            ],
            "text/plain": [
              "                                                sequence\n",
              "4580   MIFLTALPLFWIMISASRGGHWGAWMPSSISAFEGTCVSIPCRFDF...\n",
              "13762  MCARGQVGRGTQLRTGRPCSQVPGSRWRPERLLRRQRAGGRPSRPH...\n",
              "13686  MKGWGWLALLLGALLGTAWARRSQDLHCGACRALVDELEWEIAQVD..."
            ]
          },
          "metadata": {
            "tags": []
          },
          "execution_count": 23
        }
      ]
    },
    {
      "cell_type": "code",
      "metadata": {
        "id": "BJcvGY2CP31n"
      },
      "source": [
        "sequences = df.sequence.values"
      ],
      "execution_count": 24,
      "outputs": []
    },
    {
      "cell_type": "code",
      "metadata": {
        "colab": {
          "base_uri": "https://localhost:8080/"
        },
        "id": "ivfRghlwP58M",
        "outputId": "0dcdb4b4-0cae-491a-9a8b-9929b9a8eba2"
      },
      "source": [
        "test_str = sequences[0][:100]\n",
        "print('테스트 문장: ',test_str)\n",
        "\n",
        "encoded_str = tokenizer.encode(test_str,add_special_tokens=True)\n",
        "print('문장 인코딩: ',encoded_str.ids)\n",
        "print('tokens: ',encoded_str.tokens)\n",
        "\n",
        "decoded_str = tokenizer.decode(encoded_str.ids)\n",
        "print('문장 디코딩: ',decoded_str)"
      ],
      "execution_count": 32,
      "outputs": [
        {
          "output_type": "stream",
          "text": [
            "테스트 문장:  MWLSPEEVLVANALWVTERANPFFVLQRRRGHGRGGGLTGLLVGTLDVVLDSSARVAPYRILHQTQDSQVYWTVACGSSRKEITKHWEWLENNLLQTLSI\n",
            "문장 인코딩:  [17770, 2148, 5436, 1324, 10288, 14214, 16960, 36, 116, 16513, 215, 3860, 3044, 1976, 36, 4068, 654, 147, 161, 1930, 1210, 211, 10705, 410, 3911, 397, 28, 477, 25263, 5599, 1350, 13011, 36, 863, 92]\n",
            "tokens:  ['MWL', '##SPEE', '##VLVA', '##NAL', '##WVT', '##ERAN', '##PFFV', '##L', '##QR', '##RRGH', '##GR', '##GGGL', '##TGLL', '##VGT', '##L', '##DVVL', '##DSS', '##AR', '##VA', '##PYR', '##ILH', '##QT', '##QDSQ', '##VY', '##WTV', '##AC', '##G', '##SSR', '##KEIT', '##KHW', '##EWL', '##ENNL', '##L', '##QTL', '##SI']\n",
            "문장 디코딩:  MWLSPEEVLVANALWVTERANPFFVLQRRRGHGRGGGLTGLLVGTLDVVLDSSARVAPYRILHQTQDSQVYWTVACGSSRKEITKHWEWLENNLLQTLSI\n"
          ],
          "name": "stdout"
        }
      ]
    },
    {
      "cell_type": "code",
      "metadata": {
        "colab": {
          "base_uri": "https://localhost:8080/"
        },
        "id": "hK_cY0l_P806",
        "outputId": "664dd277-b8c4-41e7-d1b5-8a180d54dd66"
      },
      "source": [
        "test_str = sequences[0][:101]\n",
        "print('테스트 문장: ',test_str)\n",
        "\n",
        "encoded_str = tokenizer.encode(test_str,add_special_tokens=True)\n",
        "print('문장 인코딩: ',encoded_str.ids)\n",
        "print('tokens: ',encoded_str.tokens)\n",
        "\n",
        "decoded_str = tokenizer.decode(encoded_str.ids)\n",
        "print('문장 디코딩: ',decoded_str)"
      ],
      "execution_count": 37,
      "outputs": [
        {
          "output_type": "stream",
          "text": [
            "테스트 문장:  MWLSPEEVLVANALWVTERANPFFVLQRRRGHGRGGGLTGLLVGTLDVVLDSSARVAPYRILHQTQDSQVYWTVACGSSRKEITKHWEWLENNLLQTLSIF\n",
            "문장 인코딩:  [1]\n",
            "tokens:  ['[UNK]']\n",
            "문장 디코딩:  \n"
          ],
          "name": "stdout"
        }
      ]
    },
    {
      "cell_type": "code",
      "metadata": {
        "id": "6BUQ0leQlhid"
      },
      "source": [
        ""
      ],
      "execution_count": null,
      "outputs": []
    }
  ]
}