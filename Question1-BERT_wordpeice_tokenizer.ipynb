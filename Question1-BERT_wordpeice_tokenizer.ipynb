{
  "nbformat": 4,
  "nbformat_minor": 0,
  "metadata": {
    "colab": {
      "name": "BERT_wordpeice_tokenizer.ipynb",
      "provenance": [],
      "authorship_tag": "ABX9TyO0uKJzZTYyHum+Sav3gykj",
      "include_colab_link": true
    },
    "kernelspec": {
      "name": "python3",
      "display_name": "Python 3"
    },
    "language_info": {
      "name": "python"
    },
    "accelerator": "GPU"
  },
  "cells": [
    {
      "cell_type": "markdown",
      "metadata": {
        "id": "view-in-github",
        "colab_type": "text"
      },
      "source": [
        "<a href=\"https://colab.research.google.com/github/JoonYoung-Sohn/Protein_seq_prediction/blob/main/Question1-BERT_wordpeice_tokenizer.ipynb\" target=\"_parent\"><img src=\"https://colab.research.google.com/assets/colab-badge.svg\" alt=\"Open In Colab\"/></a>"
      ]
    },
    {
      "cell_type": "code",
      "metadata": {
        "colab": {
          "base_uri": "https://localhost:8080/"
        },
        "id": "Hcjg6zVzgwQY",
        "outputId": "80949a4a-d121-446a-86d4-891636c516d7"
      },
      "source": [
        "pip install tokenizers"
      ],
      "execution_count": 1,
      "outputs": [
        {
          "output_type": "stream",
          "text": [
            "Collecting tokenizers\n",
            "\u001b[?25l  Downloading https://files.pythonhosted.org/packages/d4/e2/df3543e8ffdab68f5acc73f613de9c2b155ac47f162e725dcac87c521c11/tokenizers-0.10.3-cp37-cp37m-manylinux_2_5_x86_64.manylinux1_x86_64.manylinux_2_12_x86_64.manylinux2010_x86_64.whl (3.3MB)\n",
            "\u001b[K     |████████████████████████████████| 3.3MB 29.1MB/s \n",
            "\u001b[?25hInstalling collected packages: tokenizers\n",
            "Successfully installed tokenizers-0.10.3\n"
          ],
          "name": "stdout"
        }
      ]
    },
    {
      "cell_type": "code",
      "metadata": {
        "id": "OhR9c_iDkZok"
      },
      "source": [
        "from tokenizers import BertWordPieceTokenizer"
      ],
      "execution_count": 2,
      "outputs": []
    },
    {
      "cell_type": "code",
      "metadata": {
        "id": "LZ4eUsj1klb7"
      },
      "source": [
        "tokenizer = BertWordPieceTokenizer()"
      ],
      "execution_count": 3,
      "outputs": []
    },
    {
      "cell_type": "code",
      "metadata": {
        "colab": {
          "base_uri": "https://localhost:8080/"
        },
        "id": "PaV9gqzekpKa",
        "outputId": "8c4de8bd-d861-4f73-fa1e-1f894a513b68"
      },
      "source": [
        "tokenizer"
      ],
      "execution_count": 4,
      "outputs": [
        {
          "output_type": "execute_result",
          "data": {
            "text/plain": [
              "Tokenizer(vocabulary_size=0, model=BertWordPiece, unk_token=[UNK], sep_token=[SEP], cls_token=[CLS], pad_token=[PAD], mask_token=[MASK], clean_text=True, handle_chinese_chars=True, strip_accents=None, lowercase=True, wordpieces_prefix=##)"
            ]
          },
          "metadata": {
            "tags": []
          },
          "execution_count": 4
        }
      ]
    },
    {
      "cell_type": "code",
      "metadata": {
        "colab": {
          "base_uri": "https://localhost:8080/"
        },
        "id": "ZhntD1_Bkqga",
        "outputId": "115aa510-5113-4d1c-feb9-0a1642930110"
      },
      "source": [
        "# google drive mount\n",
        "from google.colab import drive\n",
        "drive.mount('/content/drive')"
      ],
      "execution_count": 5,
      "outputs": [
        {
          "output_type": "stream",
          "text": [
            "Mounted at /content/drive\n"
          ],
          "name": "stdout"
        }
      ]
    },
    {
      "cell_type": "code",
      "metadata": {
        "id": "Mb0Gkg63lEoa"
      },
      "source": [
        "fasta_file = \"/content/drive/MyDrive/preprocessed_data.fasta\""
      ],
      "execution_count": 6,
      "outputs": []
    },
    {
      "cell_type": "code",
      "metadata": {
        "colab": {
          "base_uri": "https://localhost:8080/",
          "height": 154
        },
        "id": "A516fcZklK2A",
        "outputId": "c464dc95-a2cd-4753-a8ff-606d94fa6462"
      },
      "source": [
        "f = open(fasta_file,'r')\n",
        "text = f.readlines()\n",
        "text[0]"
      ],
      "execution_count": 7,
      "outputs": [
        {
          "output_type": "execute_result",
          "data": {
            "application/vnd.google.colaboratory.intrinsic+json": {
              "type": "string"
            },
            "text/plain": [
              "'MWLSPEEVLVANALWVTERANPFFVLQRRRGHGRGGGLTGLLVGTLDVVLDSSARVAPYRILHQTQDSQVYWTVACGSSRKEITKHWEWLENNLLQTLSIFDSEEDITTFVKGKIHGIIAEENKNLQPQGDEDPGKFKEAELKMRKQFGMPEGEKLVNYYSCSYWKGRVPRQGWLYLTVNHLCFYSFLLGKEVSLVVQWVDITRLEKNATLLFPESIRVDTRDQELFFSMFLNIGETFKLMEQLANLAMRQLLDSEGFLEDKALPRPIRPHRNISALKRDLDARAKNECYRATFRLPRDERLDGHTSCTLWTPFNKLHIPGQMFISNNYICFASKEEDACHLIIPLREVTIVEKADSSSVLPSPLSISTKSKMTFLFANLKDRDFLVQRISDFLQKTPSKQPGSIGSRKASVVDPSTESSPAPQEGSEQPASPASPLSSRQSFCAQEAPTASQGLLKLFQKNSPMEDLGAKGAKEKMKEESWHIHFFEYGRGVCMYRTAKTRALVLKGIPESLRGELWLLFSGAWNEMVTHPGYYAELVEKSTGKYSLATEEIERDLHRSMPEHPAFQNELGIAALRRVLTAYAFRNPTIGYCQAMNIVTSVLLLYGSEEEAFWLLVALCERMLPDYYNTRVVGALVDQGIFEELTRDFLPQLSEKMQDLGVISSISLSWFLTLFLSVMPFESAVVIVDCFFYEGIKVILQVALAVLDANMEQLLGCSDEGEAMTMLGRYLDNVVNKQSVSPPIPHLRALLSSSDDPPAEVDIFELLKVSYEKFSSLRAEDIEQMRFKQRLKVIQSLEDTAKRSVVRAIPVDIGFSIEELEDLYMVFKAKHLASQYWGCSRTMAGRRDPSLPYLEQYRIDASQFRELFASLTPWACGSHTPLLAGRMFRLLDENKDSLINFKEFVTGMSGMYHGDLTEKLKVLYKLHLPPALSPEEAESALEAAHYFTEDSSSEASPLASDLDLFLPWEAQEALPQEEQEGSGSEERGEEKGTSSPDYRHYLRMWAKEKEAQKETIKDLPKMNQEQFIELCKTLYNMFSEDPMEQDLYHAIATVASLLLRIGEVGKKFSARTGRKPRDCATEEDEPPAPELHQDAARELQPPAAGDPQAKAGGDTHLGKAPQESQVVVEGGSGEGQGSPSQLLSDDETKDDMSMSSYSVVSTGSLQCEDLADDTVLVGGEACSPTARIGGTVDTDWCISFEQILASILTESVLVNFFEKRVDIGLKIKDQKKVERQFSTASDHEQPGVSG\\n'"
            ]
          },
          "metadata": {
            "tags": []
          },
          "execution_count": 7
        }
      ]
    },
    {
      "cell_type": "code",
      "metadata": {
        "id": "gPaIoBayrxcn"
      },
      "source": [
        "# Initialize an empty BERT tokenizer\n",
        "tokenizer = BertWordPieceTokenizer(\n",
        "  clean_text=False,\n",
        "  handle_chinese_chars=False,\n",
        "  strip_accents=False,\n",
        "  lowercase=False,\n",
        ")\n",
        "\n",
        "# prepare text files to train vocab on them\n",
        "files = fasta_file"
      ],
      "execution_count": 12,
      "outputs": []
    },
    {
      "cell_type": "code",
      "metadata": {
        "id": "uJjdh_5GxKEx"
      },
      "source": [
        "# train BERT tokenizer\n",
        "tokenizer.train(\n",
        "  files,\n",
        "  vocab_size=30000,\n",
        "  min_frequency=2,\n",
        "  show_progress=True,\n",
        "  special_tokens=['[PAD]', '[UNK]', '[CLS]', '[SEP]', '[MASK]'],\n",
        "  limit_alphabet=1000,\n",
        "  wordpieces_prefix=\"##\"\n",
        ")"
      ],
      "execution_count": 13,
      "outputs": []
    },
    {
      "cell_type": "code",
      "metadata": {
        "id": "c54NCVbCxPi1"
      },
      "source": [
        "tokenizer.save('/content/drive/MyDrive/BERT_token2.txt')"
      ],
      "execution_count": 14,
      "outputs": []
    },
    {
      "cell_type": "code",
      "metadata": {
        "colab": {
          "base_uri": "https://localhost:8080/"
        },
        "id": "-2ZQBTuYyWkX",
        "outputId": "e95c4582-3cd4-4f40-ae76-f84c6fbc18ed"
      },
      "source": [
        "tokenizer"
      ],
      "execution_count": 15,
      "outputs": [
        {
          "output_type": "execute_result",
          "data": {
            "text/plain": [
              "Tokenizer(vocabulary_size=30000, model=BertWordPiece, unk_token=[UNK], sep_token=[SEP], cls_token=[CLS], pad_token=[PAD], mask_token=[MASK], clean_text=False, handle_chinese_chars=False, strip_accents=False, lowercase=False, wordpieces_prefix=##)"
            ]
          },
          "metadata": {
            "tags": []
          },
          "execution_count": 15
        }
      ]
    },
    {
      "cell_type": "code",
      "metadata": {
        "id": "M6Jucjfvyk1r",
        "outputId": "1fc4bd4b-896c-4cca-e179-294a10050518",
        "colab": {
          "base_uri": "https://localhost:8080/",
          "height": 176
        }
      },
      "source": [
        "import pandas as pd\n",
        "\n",
        "# Load the dataset into a pandas dataframe.\n",
        "df = pd.read_csv(fasta_file, delimiter='\\n', header=None, names=['sequence'])\n",
        "\n",
        "# Report the number of sentences.\n",
        "print('Number of training sentences: {:,}\\n'.format(df.shape[0]))\n",
        "\n",
        "# Display 10 random rows from the data.\n",
        "df.sample(3)"
      ],
      "execution_count": 16,
      "outputs": [
        {
          "output_type": "stream",
          "text": [
            "Number of training sentences: 20,395\n",
            "\n"
          ],
          "name": "stdout"
        },
        {
          "output_type": "execute_result",
          "data": {
            "text/html": [
              "<div>\n",
              "<style scoped>\n",
              "    .dataframe tbody tr th:only-of-type {\n",
              "        vertical-align: middle;\n",
              "    }\n",
              "\n",
              "    .dataframe tbody tr th {\n",
              "        vertical-align: top;\n",
              "    }\n",
              "\n",
              "    .dataframe thead th {\n",
              "        text-align: right;\n",
              "    }\n",
              "</style>\n",
              "<table border=\"1\" class=\"dataframe\">\n",
              "  <thead>\n",
              "    <tr style=\"text-align: right;\">\n",
              "      <th></th>\n",
              "      <th>sequence</th>\n",
              "    </tr>\n",
              "  </thead>\n",
              "  <tbody>\n",
              "    <tr>\n",
              "      <th>5847</th>\n",
              "      <td>MTHCCSPCCQPTCCRTTCWKPTTVTTCSSTPCCQPSCCVSSCCQPC...</td>\n",
              "    </tr>\n",
              "    <tr>\n",
              "      <th>8637</th>\n",
              "      <td>MATQRKHLVKDFNPYITCYICKGYLIKPTTVTECLHTFCKTCIVQH...</td>\n",
              "    </tr>\n",
              "    <tr>\n",
              "      <th>3518</th>\n",
              "      <td>MLVIWILTLALRLCASVTTVTPEGSAVHKAISQQGTLWTGEVLEKQ...</td>\n",
              "    </tr>\n",
              "  </tbody>\n",
              "</table>\n",
              "</div>"
            ],
            "text/plain": [
              "                                               sequence\n",
              "5847  MTHCCSPCCQPTCCRTTCWKPTTVTTCSSTPCCQPSCCVSSCCQPC...\n",
              "8637  MATQRKHLVKDFNPYITCYICKGYLIKPTTVTECLHTFCKTCIVQH...\n",
              "3518  MLVIWILTLALRLCASVTTVTPEGSAVHKAISQQGTLWTGEVLEKQ..."
            ]
          },
          "metadata": {
            "tags": []
          },
          "execution_count": 16
        }
      ]
    },
    {
      "cell_type": "code",
      "metadata": {
        "id": "BJcvGY2CP31n"
      },
      "source": [
        "sequences = df.sequence.values"
      ],
      "execution_count": 17,
      "outputs": []
    },
    {
      "cell_type": "code",
      "metadata": {
        "id": "ivfRghlwP58M",
        "outputId": "c9d297a8-6564-46c6-a3be-56f81a9eb51a",
        "colab": {
          "base_uri": "https://localhost:8080/"
        }
      },
      "source": [
        "test_str = sequences[323]\n",
        "print('테스트 문장: ',test_str)\n",
        "\n",
        "encoded_str = tokenizer.encode(test_str,add_special_tokens=True)\n",
        "print('문장 인코딩: ',encoded_str)\n",
        "\n",
        "#decoded_str = tokenizer.decode(encoded_str)\n",
        "#print('문장 디코딩: ',decoded_str)"
      ],
      "execution_count": 23,
      "outputs": [
        {
          "output_type": "stream",
          "text": [
            "테스트 문장:  MMTAESREATGLSPQAAQEKDGIVIVKVEEEDEEDHMWGQDSTLQDTPPPDPEIFRQRFRRFCYQNTFGPREALSRLKELCHQWLRPEINTKEQILELLVLEQFLSILPKELQVWLQEYRPDSGEEAVTLLEDLELDLSGQQVPGQVHGPEMLARGMVPLDPVQESSSFDLHHEATQSHFKHSSRKPRLLQSRALPAAHIPAPPHEGSPRDQAMASALFTADSQAMVKIEDMAVSLILEEWGCQNLARRNLSRDNRQENYGSAFPQGGENRNENEESTSKAETSEDSASRGETTGRSQKEFGEKRDQEGKTGERQQKNPEEKTRKEKRDSGPAIGKDKKTITGERGPREKGKGLGRSFSLSSNFTTPEEVPTGTKSHRCDECGKCFTRSSSLIRHKIIHTGEKPYECSECGKAFSLNSNLVLHQRIHTGEKPHECNECGKAFSHSSNLILHQRIHSGEKPYECNECGKAFSQSSDLTKHQRIHTGEKPYECSECGKAFNRNSYLILHRRIHTREKPYKCTKCGKAFTRSSTLTLHHRIHARERASEYSPASLDAFGAFLKSCV\n",
            "문장 인코딩:  Encoding(num_tokens=1, attributes=[ids, type_ids, tokens, offsets, attention_mask, special_tokens_mask, overflowing])\n"
          ],
          "name": "stdout"
        }
      ]
    },
    {
      "cell_type": "code",
      "metadata": {
        "id": "hK_cY0l_P806"
      },
      "source": [
        ""
      ],
      "execution_count": null,
      "outputs": []
    }
  ]
}