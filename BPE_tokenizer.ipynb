{
  "nbformat": 4,
  "nbformat_minor": 0,
  "metadata": {
    "colab": {
      "name": "BPE_tokenizer.ipynb",
      "provenance": [],
      "collapsed_sections": [],
      "authorship_tag": "ABX9TyPqAMEeFNo/svoGi5eT/r+2",
      "include_colab_link": true
    },
    "kernelspec": {
      "name": "python3",
      "display_name": "Python 3"
    },
    "language_info": {
      "name": "python"
    },
    "accelerator": "GPU"
  },
  "cells": [
    {
      "cell_type": "markdown",
      "metadata": {
        "id": "view-in-github",
        "colab_type": "text"
      },
      "source": [
        "<a href=\"https://colab.research.google.com/github/JoonYoung-Sohn/Protein_seq_prediction/blob/main/BPE_tokenizer.ipynb\" target=\"_parent\"><img src=\"https://colab.research.google.com/assets/colab-badge.svg\" alt=\"Open In Colab\"/></a>"
      ]
    },
    {
      "cell_type": "code",
      "metadata": {
        "id": "uhmWGOSJQDS8"
      },
      "source": [
        "import argparse\n",
        "import collections\n",
        "import os\n",
        "import random\n",
        "import re\n",
        "import shutil\n",
        "import zipfile\n",
        "\n",
        "import matplotlib.pyplot as plt\n",
        "import numpy as np\n",
        "import torch"
      ],
      "execution_count": 1,
      "outputs": []
    },
    {
      "cell_type": "code",
      "metadata": {
        "colab": {
          "base_uri": "https://localhost:8080/"
        },
        "id": "AJXycQcrQWt4",
        "outputId": "f469b748-ea15-4fd3-85af-e93222989531"
      },
      "source": [
        "# google drive mount\n",
        "from google.colab import drive\n",
        "drive.mount('/content/drive')"
      ],
      "execution_count": 2,
      "outputs": [
        {
          "output_type": "stream",
          "text": [
            "Mounted at /content/drive\n"
          ],
          "name": "stdout"
        }
      ]
    },
    {
      "cell_type": "code",
      "metadata": {
        "id": "URdXZJf0QdGS"
      },
      "source": [
        "fasta_file = \"/content/drive/MyDrive/preprocessed_data.fasta\""
      ],
      "execution_count": 3,
      "outputs": []
    },
    {
      "cell_type": "code",
      "metadata": {
        "colab": {
          "base_uri": "https://localhost:8080/"
        },
        "id": "B2Y938GJQj9D",
        "outputId": "00db5f16-e0b2-49c5-ed6b-f5c0ff6af7a2"
      },
      "source": [
        "args = {\n",
        "    # random seed value\n",
        "    \"seed\": 1234,\n",
        "    # CPU 또는 GPU 사용여부 결정\n",
        "    \"device\": torch.device(\"cuda\" if torch.cuda.is_available() else \"cpu\"),\n",
        "    # 말뭉치 파일\n",
        "    \"corpus\": fasta_file,\n",
        "}\n",
        "args = argparse.Namespace(**args)\n",
        "\n",
        "print(args)"
      ],
      "execution_count": 4,
      "outputs": [
        {
          "output_type": "stream",
          "text": [
            "Namespace(corpus='/content/drive/MyDrive/preprocessed_data.fasta', device=device(type='cuda'), seed=1234)\n"
          ],
          "name": "stdout"
        }
      ]
    },
    {
      "cell_type": "code",
      "metadata": {
        "id": "FilBJ_gGQlIZ"
      },
      "source": [
        "random.seed(args.seed)\n",
        "np.random.seed(args.seed)\n",
        "torch.manual_seed(args.seed)\n",
        "torch.cuda.manual_seed_all(args.seed)"
      ],
      "execution_count": 5,
      "outputs": []
    },
    {
      "cell_type": "code",
      "metadata": {
        "id": "R6RDIBhCQmhJ"
      },
      "source": [
        "word_counter = collections.defaultdict(int)"
      ],
      "execution_count": 6,
      "outputs": []
    },
    {
      "cell_type": "code",
      "metadata": {
        "id": "y02UHX5MQy52"
      },
      "source": [
        "with open('/content/drive/MyDrive/preprocessed_data.fasta') as f:\n",
        "    for i, line in enumerate(f):\n",
        "        line = line.strip()\n",
        "        for w in line.split():\n",
        "            word_counter[w] += 1"
      ],
      "execution_count": 11,
      "outputs": []
    },
    {
      "cell_type": "code",
      "metadata": {
        "colab": {
          "base_uri": "https://localhost:8080/"
        },
        "id": "6VdjULb4Q0k0",
        "outputId": "8deed85b-509d-46c0-97c4-2994721c8cfa"
      },
      "source": [
        "print(len(word_counter))"
      ],
      "execution_count": 12,
      "outputs": [
        {
          "output_type": "stream",
          "text": [
            "20325\n"
          ],
          "name": "stdout"
        }
      ]
    },
    {
      "cell_type": "code",
      "metadata": {
        "colab": {
          "base_uri": "https://localhost:8080/"
        },
        "id": "JABS1dZlRmlu",
        "outputId": "f643a9e1-a8e4-4552-fe73-03be2a08bf16"
      },
      "source": [
        "bpe_counter = collections.defaultdict(int)\n",
        "for w, n in word_counter.items():\n",
        "    w = f\"\\u2581{w}\"\n",
        "    bpe_counter[\" \".join(w)] = n\n",
        "\n",
        "print(bpe_counter)"
      ],
      "execution_count": 13,
      "outputs": [
        {
          "output_type": "stream",
          "text": [
            "IOPub data rate exceeded.\n",
            "The notebook server will temporarily stop sending output\n",
            "to the client in order to avoid crashing it.\n",
            "To change this limit, set the config variable\n",
            "`--NotebookApp.iopub_data_rate_limit`.\n",
            "\n",
            "Current values:\n",
            "NotebookApp.iopub_data_rate_limit=1000000.0 (bytes/sec)\n",
            "NotebookApp.rate_limit_window=3.0 (secs)\n",
            "\n"
          ],
          "name": "stderr"
        }
      ]
    },
    {
      "cell_type": "code",
      "metadata": {
        "id": "KOONJ3FjR3fE"
      },
      "source": [
        "def update_vocab(vocab, counter):\n",
        "    \"\"\"\n",
        "    vocab 변경\n",
        "    :param vocab: vocabulary\n",
        "    :param counter: BPE counter\n",
        "    \"\"\"\n",
        "    for w in counter:\n",
        "        for s in w.split():\n",
        "            if s not in vocab:\n",
        "                vocab[s] = len(vocab)\n",
        "    return vocab"
      ],
      "execution_count": 14,
      "outputs": []
    },
    {
      "cell_type": "code",
      "metadata": {
        "colab": {
          "base_uri": "https://localhost:8080/"
        },
        "id": "VJGb6cm1SpeX",
        "outputId": "f3bd2322-61fa-402f-8a07-64ce3b1b65ff"
      },
      "source": [
        "# bpe 일련번호 부여\n",
        "bpe_to_id = {'[PAD]': 0, '[UNK]': 1}\n",
        "bpe_to_id = update_vocab(bpe_to_id, bpe_counter)\n",
        "\n",
        "print(bpe_to_id)"
      ],
      "execution_count": 16,
      "outputs": [
        {
          "output_type": "stream",
          "text": [
            "{'[PAD]': 0, '[UNK]': 1, '▁': 2, '/': 3, 'c': 4, 'o': 5, 'n': 6, 't': 7, 'e': 8, 'd': 9, 'r': 10, 'i': 11, 'v': 12, 'M': 13, 'y': 14, 'D': 15, 'p': 16, 's': 17, '_': 18, 'a': 19, '.': 20, 'f': 21, 'W': 22, 'L': 23, 'S': 24, 'P': 25, 'E': 26, 'V': 27, 'A': 28, 'N': 29, 'T': 30, 'R': 31, 'F': 32, 'Q': 33, 'G': 34, 'H': 35, 'Y': 36, 'I': 37, 'C': 38, 'K': 39, 'U': 40}\n"
          ],
          "name": "stdout"
        }
      ]
    },
    {
      "cell_type": "code",
      "metadata": {
        "id": "siK_OK1wSs5P"
      },
      "source": [
        "def get_stats(counter):\n",
        "    \"\"\"\n",
        "    bi-gram 빈도수 계산\n",
        "    :param counter: BPE counter\n",
        "    \"\"\"\n",
        "    pairs = collections.defaultdict(int)\n",
        "    for word, freq in counter.items():\n",
        "        symbols = word.split()\n",
        "        for i in range(len(symbols)-1):\n",
        "            pairs[symbols[i],symbols[i+1]] += freq\n",
        "    return pairs"
      ],
      "execution_count": 17,
      "outputs": []
    },
    {
      "cell_type": "code",
      "metadata": {
        "id": "0jC48-IvTEZw"
      },
      "source": [
        "def merge_vocab(pair, v_in):\n",
        "    \"\"\"\n",
        "    bi-gram merge\n",
        "    :param counter: BPE counter\n",
        "    \"\"\"\n",
        "    v_out = {}\n",
        "    bigram = re.escape(' '.join(pair))\n",
        "    p = re.compile(r'(?<!\\S)' + bigram + r'(?!\\S)')\n",
        "    for word in v_in:\n",
        "        w_out = p.sub(''.join(pair), word)\n",
        "        v_out[w_out] = v_in[word]\n",
        "    return v_out"
      ],
      "execution_count": 18,
      "outputs": []
    },
    {
      "cell_type": "code",
      "metadata": {
        "colab": {
          "base_uri": "https://localhost:8080/"
        },
        "id": "UCppppR0THAa",
        "outputId": "d367e0c7-800b-4349-8480-b3ea6f6c4d85"
      },
      "source": [
        "pairs = get_stats(bpe_counter)\n",
        "\n",
        "print(pairs)"
      ],
      "execution_count": 19,
      "outputs": [
        {
          "output_type": "stream",
          "text": [
            "defaultdict(<class 'int'>, {('▁', '/'): 1, ('/', 'c'): 1, ('c', 'o'): 1, ('o', 'n'): 1, ('n', 't'): 2, ('t', 'e'): 1, ('e', 'n'): 1, ('t', '/'): 1, ('/', 'd'): 1, ('d', 'r'): 1, ('r', 'i'): 2, ('i', 'v'): 2, ('v', 'e'): 2, ('e', '/'): 2, ('/', 'M'): 1, ('M', 'y'): 1, ('y', 'D'): 1, ('D', 'r'): 1, ('/', 'p'): 1, ('p', 'r'): 2, ('r', 'e'): 1, ('e', 'p'): 1, ('r', 'o'): 1, ('o', 'c'): 1, ('c', 'e'): 1, ('e', 's'): 1, ('s', 's'): 1, ('s', 'e'): 1, ('e', 'd'): 1, ('d', '_'): 1, ('_', 'd'): 1, ('d', 'a'): 1, ('a', 't'): 1, ('t', 'a'): 2, ('a', '.'): 1, ('.', 'f'): 1, ('f', 'a'): 1, ('a', 's'): 1, ('s', 't'): 1, ('▁', 'M'): 20315, ('M', 'W'): 2762, ('W', 'L'): 13980, ('L', 'S'): 91350, ('S', 'P'): 67887, ('P', 'E'): 52114, ('E', 'E'): 90589, ('E', 'V'): 46951, ('V', 'L'): 70895, ('L', 'V'): 63313, ('V', 'A'): 48572, ('A', 'N'): 22292, ('N', 'A'): 22764, ('A', 'L'): 82688, ('L', 'W'): 13345, ('W', 'V'): 8276, ('V', 'T'): 42836, ('T', 'E'): 39281, ('E', 'R'): 45238, ('R', 'A'): 45187, ('N', 'P'): 24665, ('P', 'F'): 22211, ('F', 'F'): 18285, ('F', 'V'): 24000, ('L', 'Q'): 65555, ('Q', 'R'): 34326, ('R', 'R'): 50125, ('R', 'G'): 41733, ('G', 'H'): 19592, ('H', 'G'): 17926, ('G', 'R'): 42767, ('G', 'G'): 59485, ('G', 'L'): 68410, ('L', 'T'): 58650, ('T', 'G'): 42564, ('L', 'L'): 126611, ('V', 'G'): 38213, ('G', 'T'): 40968, ('T', 'L'): 60714, ('L', 'D'): 52941, ('D', 'V'): 34407, ('V', 'V'): 44511, ('D', 'S'): 47034, ('S', 'S'): 107008, ('S', 'A'): 60885, ('A', 'R'): 42314, ('R', 'V'): 35514, ('A', 'P'): 50595, ('P', 'Y'): 18968, ('Y', 'R'): 18143, ('R', 'I'): 27482, ('I', 'L'): 51975, ('L', 'H'): 31142, ('H', 'Q'): 16115, ('Q', 'T'): 25781, ('T', 'Q'): 26173, ('Q', 'D'): 26407, ('S', 'Q'): 44363, ('Q', 'V'): 31652, ('V', 'Y'): 18250, ('Y', 'W'): 4217, ('W', 'T'): 7608, ('T', 'V'): 43266, ('A', 'C'): 16331, ('C', 'G'): 23072, ('G', 'S'): 66802, ('S', 'R'): 51611, ('R', 'K'): 41423, ('K', 'E'): 56963, ('E', 'I'): 34834, ('I', 'T'): 28850, ('T', 'K'): 29351, ('K', 'H'): 15992, ('H', 'W'): 4089, ('W', 'E'): 9390, ('E', 'W'): 8050, ('L', 'E'): 81082, ('E', 'N'): 35245, ('N', 'N'): 16922, ('N', 'L'): 42399, ('S', 'I'): 35946, ('I', 'F'): 21612, ('F', 'D'): 18293, ('S', 'E'): 58232, ('E', 'D'): 49719, ('D', 'I'): 28492, ('T', 'T'): 36557, ('T', 'F'): 24339, ('V', 'K'): 36838, ('K', 'G'): 36399, ('G', 'K'): 44736, ('K', 'I'): 31254, ('I', 'H'): 16877, ('G', 'I'): 30801, ('I', 'I'): 26931, ('I', 'A'): 28252, ('A', 'E'): 54059, ('N', 'K'): 24477, ('K', 'N'): 26511, ('Q', 'P'): 32834, ('P', 'Q'): 33010, ('Q', 'G'): 32976, ('G', 'D'): 35074, ('D', 'E'): 37934, ('D', 'P'): 32823, ('P', 'G'): 62880, ('K', 'F'): 19078, ('F', 'K'): 19959, ('E', 'A'): 59929, ('E', 'L'): 72210, ('L', 'K'): 64192, ('K', 'M'): 15067, ('M', 'R'): 11559, ('K', 'Q'): 28883, ('Q', 'F'): 15319, ('F', 'G'): 24966, ('G', 'M'): 13560, ('M', 'P'): 12485, ('E', 'G'): 47472, ('G', 'E'): 49172, ('E', 'K'): 62291, ('K', 'L'): 57019, ('V', 'N'): 24691, ('N', 'Y'): 12587, ('Y', 'Y'): 10737, ('Y', 'S'): 25113, ('S', 'C'): 22188, ('C', 'S'): 23291, ('S', 'Y'): 24197, ('W', 'K'): 9291, ('V', 'P'): 41436, ('P', 'R'): 39625, ('R', 'Q'): 29494, ('G', 'W'): 8907, ('L', 'Y'): 29066, ('Y', 'L'): 30606, ('N', 'H'): 10736, ('H', 'L'): 34074, ('L', 'C'): 25566, ('C', 'F'): 9746, ('F', 'Y'): 13892, ('S', 'F'): 35186, ('F', 'L'): 47462, ('L', 'G'): 68589, ('V', 'S'): 54994, ('S', 'L'): 93862, ('V', 'Q'): 30622, ('Q', 'W'): 6187, ('V', 'D'): 32535, ('T', 'R'): 27876, ('R', 'L'): 61731, ('A', 'T'): 41527, ('L', 'F'): 38606, ('F', 'P'): 23159, ('E', 'S'): 48867, ('I', 'R'): 26257, ('D', 'T'): 27486, ('R', 'D'): 30967, ('D', 'Q'): 20285, ('Q', 'E'): 45113, ('F', 'S'): 40083, ('S', 'M'): 16086, ('M', 'F'): 8112, ('L', 'N'): 39208, ('N', 'I'): 23555, ('I', 'G'): 24209, ('E', 'T'): 38053, ('L', 'M'): 20447, ('M', 'E'): 20618, ('E', 'Q'): 35485, ('Q', 'L'): 53869, ('L', 'A'): 78970, ('A', 'M'): 15647, ('G', 'F'): 27609, ('D', 'K'): 27479, ('K', 'A'): 46199, ('L', 'P'): 69294, ('R', 'P'): 37460, ('P', 'I'): 21202, ('P', 'H'): 16421, ('H', 'R'): 18398, ('R', 'N'): 23872, ('I', 'S'): 41816, ('K', 'R'): 36967, ('D', 'L'): 55325, ('D', 'A'): 31974, ('A', 'K'): 37699, ('N', 'E'): 24826, ('E', 'C'): 18573, ('C', 'Y'): 7030, ('F', 'R'): 22510, ('D', 'G'): 36630, ('H', 'T'): 19368, ('T', 'S'): 52975, ('C', 'T'): 12673, ('T', 'P'): 41846, ('F', 'N'): 15265, ('H', 'I'): 13820, ('I', 'P'): 29294, ('G', 'Q'): 32000, ('Q', 'M'): 11446, ('F', 'I'): 20694, ('S', 'N'): 30362, ('Y', 'I'): 15189, ('I', 'C'): 12590, ('F', 'A'): 22217, ('A', 'S'): 65671, ('S', 'K'): 45176, ('C', 'H'): 7802, ('L', 'I'): 44202, ('P', 'L'): 60885, ('L', 'R'): 67922, ('R', 'E'): 45194, ('T', 'I'): 26829, ('I', 'V'): 27571, ('V', 'E'): 42630, ('A', 'D'): 32349, ('S', 'V'): 54623, ('P', 'S'): 65224, ('S', 'T'): 51599, ('K', 'S'): 43806, ('M', 'T'): 12570, ('K', 'D'): 34559, ('D', 'R'): 27101, ('D', 'F'): 23711, ('S', 'D'): 42790, ('Q', 'K'): 33362, ('K', 'T'): 34969, ('P', 'A'): 57556, ('Q', 'S'): 35146, ('F', 'C'): 11031, ('C', 'A'): 14808, ('A', 'Q'): 36798, ('P', 'T'): 35609, ('T', 'A'): 42766, ('F', 'Q'): 20806, ('N', 'S'): 35055, ('P', 'M'): 10994, ('G', 'A'): 53182, ('M', 'K'): 16035, ('S', 'W'): 12549, ('W', 'H'): 3426, ('H', 'F'): 12528, ('F', 'E'): 22157, ('E', 'Y'): 17397, ('Y', 'G'): 19014, ('G', 'V'): 40029, ('V', 'C'): 16705, ('C', 'M'): 4218, ('M', 'Y'): 6597, ('R', 'T'): 31348, ('S', 'G'): 64872, ('A', 'W'): 9561, ('W', 'N'): 6043, ('E', 'M'): 17614, ('M', 'V'): 15279, ('T', 'H'): 15761, ('H', 'P'): 19015, ('G', 'Y'): 19543, ('Y', 'A'): 15747, ('K', 'Y'): 17386, ('I', 'E'): 27798, ('R', 'S'): 47824, ('E', 'H'): 16953, ('A', 'F'): 31622, ('Q', 'N'): 20826, ('A', 'A'): 80837, ('A', 'Y'): 17362, ('Y', 'C'): 7821, ('C', 'Q'): 12995, ('Q', 'A'): 40288, ('M', 'N'): 9998, ('F', 'W'): 5741, ('C', 'E'): 15408, ('R', 'M'): 11974, ('M', 'L'): 22266, ('P', 'D'): 31598, ('D', 'Y'): 15978, ('Y', 'N'): 12273, ('N', 'T'): 21684, ('M', 'Q'): 10194, ('V', 'I'): 32456, ('W', 'F'): 5124, ('V', 'M'): 13478, ('A', 'V'): 53623, ('D', 'C'): 12139, ('Y', 'E'): 19455, ('I', 'K'): 28634, ('K', 'V'): 38268, ('N', 'M'): 9199, ('G', 'C'): 15582, ('T', 'M'): 11380, ('R', 'Y'): 16479, ('D', 'N'): 18707, ('N', 'V'): 24350, ('P', 'P'): 71285, ('D', 'D'): 28640, ('R', 'F'): 21046, ('I', 'Q'): 25555, ('V', 'R'): 33621, ('A', 'I'): 31046, ('P', 'V'): 42902, ('Y', 'M'): 6130, ('V', 'F'): 27337, ('Q', 'Y'): 12587, ('W', 'G'): 8491, ('M', 'A'): 22433, ('A', 'G'): 55928, ('I', 'D'): 21907, ('P', 'W'): 8212, ('W', 'A'): 9416, ('S', 'H'): 25016, ('I', 'N'): 20124, ('N', 'F'): 16534, ('E', 'F'): 22741, ('M', 'S'): 17578, ('Y', 'H'): 8528, ('Y', 'K'): 17391, ('A', 'H'): 17962, ('H', 'Y'): 9130, ('Y', 'F'): 14054, ('F', 'T'): 23406, ('R', 'H'): 18316, ('P', 'K'): 31846, ('N', 'Q'): 18546, ('C', 'K'): 13800, ('H', 'A'): 14964, ('K', 'K'): 52568, ('K', 'P'): 36946, ('E', 'P'): 37847, ('D', 'M'): 11447, ('Q', 'C'): 11291, ('T', 'D'): 26912, ('D', 'W'): 7070, ('W', 'C'): 2791, ('C', 'I'): 10576, ('Q', 'I'): 21986, ('D', 'H'): 12696, ('H', 'E'): 15046, ('W', 'D'): 7388, ('F', 'H'): 12096, ('M', 'I'): 9410, ('M', 'D'): 13823, ('Y', 'V'): 17833, ('V', 'H'): 17896, ('T', 'N'): 19243, ('Q', 'H'): 14974, ('M', 'H'): 5247, ('H', 'K'): 14825, ('Y', 'Q'): 14314, ('H', 'S'): 26768, ('T', 'Y'): 15991, ('P', 'N'): 20161, ('N', 'R'): 20495, ('G', 'P'): 51311, ('H', 'M'): 6153, ('H', 'H'): 10544, ('Q', 'Q'): 34534, ('K', 'W'): 6706, ('W', 'R'): 8508, ('T', 'W'): 7965, ('Y', 'P'): 14829, ('K', 'C'): 14320, ('H', 'V'): 16658, ('G', 'N'): 26833, ('C', 'W'): 3456, ('C', 'L'): 25331, ('Y', 'T'): 16579, ('I', 'Y'): 15662, ('F', 'M'): 7816, ('Y', 'D'): 14188, ('C', 'R'): 15240, ('C', 'D'): 11731, ('C', 'C'): 8667, ('C', 'P'): 16497, ('W', 'Y'): 3944, ('N', 'C'): 9558, ('T', 'C'): 15405, ('W', 'S'): 10072, ('M', 'M'): 5815, ('R', 'W'): 8034, ('I', 'M'): 10235, ('V', 'W'): 8061, ('N', 'G'): 26924, ('W', 'P'): 6209, ('C', 'V'): 14867, ('P', 'C'): 13830, ('H', 'C'): 8414, ('W', 'M'): 3315, ('M', 'G'): 14697, ('N', 'D'): 16745, ('H', 'D'): 9773, ('H', 'N'): 9685, ('W', 'I'): 6278, ('R', 'C'): 14310, ('W', 'Q'): 6166, ('I', 'W'): 5912, ('N', 'W'): 5121, ('M', 'C'): 4410, ('C', 'N'): 9661, ('▁', 'S'): 8, ('W', 'W'): 2232, ('▁', 'N'): 14, ('▁', 'T'): 3, ('▁', 'W'): 13, ('▁', 'D'): 5, ('▁', 'G'): 9, ('▁', 'E'): 2, ('▁', 'R'): 2, ('Y', 'U'): 2, ('U', 'G'): 14, ('▁', 'Q'): 6, ('G', 'U'): 5, ('C', 'U'): 4, ('T', 'U'): 5, ('U', 'S'): 3, ('L', 'U'): 3, ('▁', 'A'): 11, ('S', 'U'): 6, ('U', 'R'): 3, ('U', 'Y'): 1, ('U', 'C'): 1, ('U', 'Q'): 4, ('Q', 'U'): 2, ('A', 'U'): 2, ('R', 'U'): 2, ('U', 'K'): 3, ('K', 'U'): 1, ('U', 'E'): 1, ('E', 'U'): 1, ('U', 'P'): 4, ('F', 'U'): 1, ('U', 'I'): 1, ('▁', 'K'): 1, ('▁', 'I'): 1, ('N', 'U'): 1, ('▁', 'Y'): 1, ('▁', 'C'): 2, ('D', 'U'): 1, ('U', 'L'): 1, ('▁', 'L'): 1, ('▁', 'P'): 1})\n"
          ],
          "name": "stdout"
        }
      ]
    },
    {
      "cell_type": "code",
      "metadata": {
        "colab": {
          "base_uri": "https://localhost:8080/"
        },
        "id": "NdnwMjwLTJR3",
        "outputId": "2a465259-3eb4-41b4-e037-45227d23616f"
      },
      "source": [
        "# find most freq bigram pair\n",
        "best = max(pairs, key=pairs.get)\n",
        "\n",
        "print(best)"
      ],
      "execution_count": 20,
      "outputs": [
        {
          "output_type": "stream",
          "text": [
            "('L', 'L')\n"
          ],
          "name": "stdout"
        }
      ]
    },
    {
      "cell_type": "code",
      "metadata": {
        "colab": {
          "base_uri": "https://localhost:8080/"
        },
        "id": "ogsLdnVnTUwa",
        "outputId": "14f85144-df81-4f00-c459-cd4c2c7611d3"
      },
      "source": [
        "# merge most freq bigram pair\n",
        "bpe_counter = merge_vocab(best, bpe_counter)\n",
        "\n",
        "print(bpe_counter)"
      ],
      "execution_count": 21,
      "outputs": [
        {
          "output_type": "stream",
          "text": [
            "IOPub data rate exceeded.\n",
            "The notebook server will temporarily stop sending output\n",
            "to the client in order to avoid crashing it.\n",
            "To change this limit, set the config variable\n",
            "`--NotebookApp.iopub_data_rate_limit`.\n",
            "\n",
            "Current values:\n",
            "NotebookApp.iopub_data_rate_limit=1000000.0 (bytes/sec)\n",
            "NotebookApp.rate_limit_window=3.0 (secs)\n",
            "\n"
          ],
          "name": "stderr"
        }
      ]
    },
    {
      "cell_type": "code",
      "metadata": {
        "colab": {
          "base_uri": "https://localhost:8080/"
        },
        "id": "B_pM1UTuTZiO",
        "outputId": "a6f4dc15-ef0f-4331-ed80-5fc1e1ab159e"
      },
      "source": [
        "# update vocab\n",
        "bpe_to_id = update_vocab(bpe_to_id, bpe_counter)\n",
        "\n",
        "print(len(bpe_to_id))"
      ],
      "execution_count": 23,
      "outputs": [
        {
          "output_type": "stream",
          "text": [
            "42\n"
          ],
          "name": "stdout"
        }
      ]
    },
    {
      "cell_type": "code",
      "metadata": {
        "colab": {
          "base_uri": "https://localhost:8080/"
        },
        "id": "4AbV4zIeTdTq",
        "outputId": "bc54a8ca-3270-434f-af43-2b0f49db5f56"
      },
      "source": [
        "pairs = get_stats(bpe_counter)\n",
        "best = max(pairs, key=pairs.get)\n",
        "bpe_counter = merge_vocab(best, bpe_counter)\n",
        "bpe_to_id = update_vocab(bpe_to_id, bpe_counter)\n",
        "print(len(bpe_to_id))"
      ],
      "execution_count": 24,
      "outputs": [
        {
          "output_type": "stream",
          "text": [
            "43\n"
          ],
          "name": "stdout"
        }
      ]
    },
    {
      "cell_type": "code",
      "metadata": {
        "colab": {
          "base_uri": "https://localhost:8080/"
        },
        "id": "HySsgCbbTvOQ",
        "outputId": "e0e813d3-c9d3-47b6-c9ce-214d794fa1e5"
      },
      "source": [
        "while len(bpe_to_id) < 100:\n",
        "  pairs = get_stats(bpe_counter)\n",
        "  best = max(pairs, key=pairs.get)\n",
        "  bpe_counter = merge_vocab(best, bpe_counter)\n",
        "  bpe_to_id = update_vocab(bpe_to_id, bpe_counter)\n",
        "print(len(bpe_to_id))\n",
        "print(bpe_to_id)"
      ],
      "execution_count": 25,
      "outputs": [
        {
          "output_type": "stream",
          "text": [
            "100\n",
            "{'[PAD]': 0, '[UNK]': 1, '▁': 2, '/': 3, 'c': 4, 'o': 5, 'n': 6, 't': 7, 'e': 8, 'd': 9, 'r': 10, 'i': 11, 'v': 12, 'M': 13, 'y': 14, 'D': 15, 'p': 16, 's': 17, '_': 18, 'a': 19, '.': 20, 'f': 21, 'W': 22, 'L': 23, 'S': 24, 'P': 25, 'E': 26, 'V': 27, 'A': 28, 'N': 29, 'T': 30, 'R': 31, 'F': 32, 'Q': 33, 'G': 34, 'H': 35, 'Y': 36, 'I': 37, 'C': 38, 'K': 39, 'U': 40, 'LL': 41, 'SS': 42, 'EE': 43, 'AA': 44, 'SL': 45, 'PP': 46, 'AL': 47, 'VL': 48, 'GL': 49, 'EL': 50, 'EK': 51, 'SP': 52, 'GG': 53, 'TL': 54, 'RL': 55, 'DL': 56, 'SG': 57, 'KK': 58, 'QL': 59, 'IL': 60, 'RR': 61, 'PL': 62, 'SA': 63, 'SV': 64, 'PG': 65, 'EA': 66, 'FL': 67, 'ST': 68, 'KL': 69, 'ED': 70, 'SR': 71, 'EV': 72, 'NL': 73, 'AV': 74, 'EG': 75, 'SQ': 76, 'TV': 77, 'AG': 78, 'SD': 79, 'SK': 80, 'TG': 81, 'ER': 82, 'PV': 83, 'PA': 84, 'HL': 85, 'SI': 86, 'EN': 87, 'QQ': 88, 'SF': 89, 'PR': 90, 'EI': 91, 'VV': 92, 'YL': 93, 'TA': 94, 'DG': 95, 'KA': 96, 'EQ': 97, 'ET': 98, 'KV': 99}\n"
          ],
          "name": "stdout"
        }
      ]
    },
    {
      "cell_type": "code",
      "metadata": {
        "id": "KfRl_qNPT_UJ"
      },
      "source": [
        ""
      ],
      "execution_count": null,
      "outputs": []
    }
  ]
}